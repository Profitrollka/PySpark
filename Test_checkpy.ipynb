{
 "cells": [
  {
   "cell_type": "markdown",
   "id": "ad00c428",
   "metadata": {},
   "source": [
    "# Функции transform_inn_col(), check_inn()"
   ]
  },
  {
   "cell_type": "markdown",
   "id": "38cb7b05",
   "metadata": {},
   "source": [
    "### Импорт модулей"
   ]
  },
  {
   "cell_type": "code",
   "execution_count": 1,
   "id": "d253614d",
   "metadata": {},
   "outputs": [],
   "source": [
    "from pyspark.sql import SparkSession"
   ]
  },
  {
   "cell_type": "markdown",
   "id": "662f3d86-36b4-40c6-94aa-0f428d12f739",
   "metadata": {},
   "source": [
    "### Импорт библиотеки pysp_lib"
   ]
  },
  {
   "cell_type": "code",
   "execution_count": 2,
   "id": "5ee7d4fd",
   "metadata": {},
   "outputs": [],
   "source": [
    "from pysp_lib.check import *"
   ]
  },
  {
   "cell_type": "markdown",
   "id": "df776778",
   "metadata": {},
   "source": [
    "### Инициализация Spark"
   ]
  },
  {
   "cell_type": "code",
   "execution_count": 3,
   "id": "da8484ed",
   "metadata": {},
   "outputs": [],
   "source": [
    "spark = SparkSession.builder.appName(\"Test\").master(\"local[*]\").getOrCreate()"
   ]
  },
  {
   "cell_type": "markdown",
   "id": "29d2693a",
   "metadata": {},
   "source": [
    "### Создаем тестовый dataframe"
   ]
  },
  {
   "cell_type": "code",
   "execution_count": 4,
   "id": "f4e46ba1",
   "metadata": {},
   "outputs": [],
   "source": [
    "df = spark.createDataFrame([('OOO Руслан', '4707005850')\n",
    "                               , ('ООО Агроторг', '7825706086')\n",
    "                               , ('ООО Ригла', None)\n",
    "                               , ('ПАО Сургутнефтегаз', '7724211288')\n",
    "                               , ('ООО Альбион-2002', '8602060555')\n",
    "                               , ('ПАО Щит', '5257056036')\n",
    "                               , ('АО Эр-Телеком Холдинг', '')\n",
    "                               , ('OOO Ромашка', None)\n",
    "                               , ('АО Магистраль', None)\n",
    "                               , ('ИП Макеев Сергей Николаевич', '131900231406')\n",
    "                               , ('ИП Савкин Николай Степанович', '131400060294')\n",
    "                               , ('ИП Анчина Валентина Николаевна', '132300043547')\n",
    "                               , ('ИП Михайлова Нина Викторовна', '131400027307')\n",
    "                               , ('ИП Веремеенко Сергей Евгеньевич', '132200001744')\n",
    "                               , ('ИП Журавлев Анатолий Николаевич', '123456790A00')\n",
    "                               , ('ИП Макаров Петр Владимирович', '000000000000')\n",
    "                               , ('ООО Пальма', '0000000000')\n",
    "                               , ('АО Завод', 'ASDFTV')\n",
    "                               , ('ПАО Кот', '0001234567')\n",
    "                               , ('ООО Веста', '0105020396')\n",
    "                               , ('ООО Дом', '105020396')\n",
    "                               , ('ЗАО Марс', None)\n",
    "                               , ('ООО Пират', '4707005850')\n",
    "                               , ('АО Музыка', '7825706086')\n",
    "                               , ('ПАО Пластинка', '105047905')\n",
    "                               , ('ООО Луна', '0101010083')\n",
    "                               , ('АО Сон', None)]\n",
    "                            , ['company', 'inn'])"
   ]
  },
  {
   "cell_type": "markdown",
   "id": "cce6edbd",
   "metadata": {},
   "source": [
    "Общее количество записей"
   ]
  },
  {
   "cell_type": "code",
   "execution_count": 5,
   "id": "b13cbc55",
   "metadata": {},
   "outputs": [
    {
     "data": {
      "text/plain": [
       "27"
      ]
     },
     "execution_count": 5,
     "metadata": {},
     "output_type": "execute_result"
    }
   ],
   "source": [
    "df.count()"
   ]
  },
  {
   "cell_type": "markdown",
   "id": "fa99c95a",
   "metadata": {},
   "source": [
    "Количество нулевых значений"
   ]
  },
  {
   "cell_type": "code",
   "execution_count": 6,
   "id": "57514f6d",
   "metadata": {},
   "outputs": [
    {
     "data": {
      "text/plain": [
       "5"
      ]
     },
     "execution_count": 6,
     "metadata": {},
     "output_type": "execute_result"
    }
   ],
   "source": [
    "df.filter(f.col('inn').isNull()).count()"
   ]
  },
  {
   "cell_type": "markdown",
   "id": "975a220f",
   "metadata": {},
   "source": [
    "### Вызов функции transform_inn_col()"
   ]
  },
  {
   "cell_type": "code",
   "execution_count": 7,
   "id": "8d57191e",
   "metadata": {},
   "outputs": [],
   "source": [
    "test_transform_func = transform_inn_col(df, 'inn')"
   ]
  },
  {
   "cell_type": "markdown",
   "id": "4e6132b1",
   "metadata": {},
   "source": [
    "Количество значений (нулевые значения отфильтрованы)"
   ]
  },
  {
   "cell_type": "code",
   "execution_count": 8,
   "id": "02855dc6",
   "metadata": {},
   "outputs": [
    {
     "data": {
      "text/plain": [
       "22"
      ]
     },
     "execution_count": 8,
     "metadata": {},
     "output_type": "execute_result"
    }
   ],
   "source": [
    "test_transform_func.count()"
   ]
  },
  {
   "cell_type": "markdown",
   "id": "165e5284",
   "metadata": {},
   "source": [
    "Смотрим изменившиеся колонки"
   ]
  },
  {
   "cell_type": "code",
   "execution_count": 9,
   "id": "906cd488",
   "metadata": {},
   "outputs": [
    {
     "name": "stdout",
     "output_type": "stream",
     "text": [
      "+----------+--------------------+\n",
      "| inn_fixed|             company|\n",
      "+----------+--------------------+\n",
      "|0105020396|             ООО Дом|\n",
      "|          |            АО Завод|\n",
      "|0105047905|       ПАО Пластинка|\n",
      "|0123456790|ИП Журавлев Анато...|\n",
      "+----------+--------------------+\n",
      "\n"
     ]
    }
   ],
   "source": [
    "test_transform_func.select('inn_fixed', 'company')\\\n",
    "                    .exceptAll(test_transform_func.select('inn', 'company'))\\\n",
    "                    .show()"
   ]
  },
  {
   "cell_type": "markdown",
   "id": "6c6be16d",
   "metadata": {},
   "source": [
    "### Вызов функции check_inn()"
   ]
  },
  {
   "cell_type": "markdown",
   "id": "66a08ba7",
   "metadata": {},
   "source": [
    "В качестве параметра передается колонка с ИНН предварительно не отредактированная"
   ]
  },
  {
   "cell_type": "code",
   "execution_count": 10,
   "id": "e69032ff",
   "metadata": {},
   "outputs": [],
   "source": [
    "test_check_inn_func_non_fixed_inn = check_inn(test_transform_func, 'inn')"
   ]
  },
  {
   "cell_type": "markdown",
   "id": "cd617f80",
   "metadata": {},
   "source": [
    "Считаем количество валидных ИНН"
   ]
  },
  {
   "cell_type": "code",
   "execution_count": 11,
   "id": "7eccab0e",
   "metadata": {},
   "outputs": [
    {
     "name": "stdout",
     "output_type": "stream",
     "text": [
      "+--------------+-----+\n",
      "|inn_valid_flag|count|\n",
      "+--------------+-----+\n",
      "|             1|   14|\n",
      "|             0|    8|\n",
      "+--------------+-----+\n",
      "\n"
     ]
    }
   ],
   "source": [
    "test_check_inn_func_non_fixed_inn.groupBy('inn_valid_flag').count().show()"
   ]
  },
  {
   "cell_type": "markdown",
   "id": "8f13d39e",
   "metadata": {},
   "source": [
    "В качестве параметра передается колонка с ИНН предварительно отредактированная"
   ]
  },
  {
   "cell_type": "code",
   "execution_count": 12,
   "id": "e691e6ab",
   "metadata": {},
   "outputs": [],
   "source": [
    "test_check_inn_func_fixed_inn = check_inn(test_transform_func, 'inn_fixed')"
   ]
  },
  {
   "cell_type": "markdown",
   "id": "cca62a25",
   "metadata": {},
   "source": [
    "Считаем количество валидных ИНН (благодаря предварительному редактированию удалось увеличить количество валидных ИНН)"
   ]
  },
  {
   "cell_type": "code",
   "execution_count": 13,
   "id": "132b630d",
   "metadata": {},
   "outputs": [
    {
     "name": "stdout",
     "output_type": "stream",
     "text": [
      "+--------------------+-----+\n",
      "|inn_fixed_valid_flag|count|\n",
      "+--------------------+-----+\n",
      "|                   1|   16|\n",
      "|                   0|    6|\n",
      "+--------------------+-----+\n",
      "\n"
     ]
    }
   ],
   "source": [
    "test_check_inn_func_fixed_inn.groupBy('inn_fixed_valid_flag').count().show()"
   ]
  },
  {
   "cell_type": "code",
   "execution_count": 14,
   "id": "b18eed3b",
   "metadata": {},
   "outputs": [],
   "source": [
    "spark.stop()"
   ]
  }
 ],
 "metadata": {
  "kernelspec": {
   "display_name": "Python 3",
   "language": "python",
   "name": "python3"
  },
  "language_info": {
   "codemirror_mode": {
    "name": "ipython",
    "version": 3
   },
   "file_extension": ".py",
   "mimetype": "text/x-python",
   "name": "python",
   "nbconvert_exporter": "python",
   "pygments_lexer": "ipython3",
   "version": "3.8.8"
  }
 },
 "nbformat": 4,
 "nbformat_minor": 5
}
