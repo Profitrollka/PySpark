{
 "cells": [
  {
   "cell_type": "markdown",
   "id": "ad00c428",
   "metadata": {},
   "source": [
    "# Функции transform_inn_col(), check_inn()"
   ]
  },
  {
   "cell_type": "markdown",
   "id": "38cb7b05",
   "metadata": {},
   "source": [
    "### Импорт модулей"
   ]
  },
  {
   "cell_type": "code",
   "execution_count": 1,
   "id": "d253614d",
   "metadata": {},
   "outputs": [],
   "source": [
    "from pyspark.sql import SparkSession\n",
    "from pyspark.sql.types import StringType, StructType, StructField\n",
    "import pandas as pd"
   ]
  },
  {
   "cell_type": "code",
   "execution_count": 2,
   "id": "5ee7d4fd",
   "metadata": {},
   "outputs": [],
   "source": [
    "from pysp_lib.check import *"
   ]
  },
  {
   "cell_type": "markdown",
   "id": "df776778",
   "metadata": {},
   "source": [
    "### Инициализация Spark сессии"
   ]
  },
  {
   "cell_type": "code",
   "execution_count": 3,
   "id": "da8484ed",
   "metadata": {},
   "outputs": [],
   "source": [
    "spark = SparkSession.builder.appName(\"Test\").master(\"local[*]\").getOrCreate()"
   ]
  },
  {
   "cell_type": "markdown",
   "id": "29d2693a",
   "metadata": {},
   "source": [
    "### Создаем пробный датасет"
   ]
  },
  {
   "cell_type": "code",
   "execution_count": 4,
   "id": "f4e46ba1",
   "metadata": {},
   "outputs": [],
   "source": [
    "data_1 = {'company':['OOO Руслан', 'ООО Агроторг', 'ООО Ригла', 'ПАО Сургутнефтегаз', 'ООО Альбион-2002', 'ПАО Щит'\n",
    "                   , 'АО Эр-Телеком Холдинг', 'OOO Ромашка', 'АО Магистраль', 'ИП Макеев Сергей Николаевич'\n",
    "                   , 'ИП Савкин Николай Степанович', 'ИП Анчина Валентина Николаевна', 'ИП Михайлова Нина Викторовна'\n",
    "                   , 'ИП Веремеенко Сергей Евгеньевич', 'ИП Журавлев Анатолий Николаевич', 'ИП Макаров Петр Владимирович'\n",
    "                  , 'ООО Пальма', 'АО Завод', 'ПАО Кот', 'ООО Веста', 'ООО Дом', 'ЗАО Марс'],\n",
    "       'inn': ['4707005850', '7825706086', '', '7724211288', '' , '8602060555', '5257056036', '5902202276'\n",
    "        , '131900231406', '131400060294', '132300043547', '131400027307', '132200001744', '123456790A', '0000000000', '000000000000'\n",
    "       , '0000000000', '00000000000', 'ASDFTV', '0001234567', '0105020396', '105020396']}"
   ]
  },
  {
   "cell_type": "code",
   "execution_count": 5,
   "id": "addd7d70",
   "metadata": {},
   "outputs": [],
   "source": [
    "data_2 = {'company': ['ООО Пират', 'АО Музыка', 'ПАО Пластинка', 'ООО Луна', 'АО Сон']\n",
    "         ,'inn': ['4707005850', '7825706086', '', '105047905', '0101010083']}"
   ]
  },
  {
   "cell_type": "code",
   "execution_count": 6,
   "id": "1ed75d48",
   "metadata": {},
   "outputs": [],
   "source": [
    "pddf_1 = pd.DataFrame(data_1)\n",
    "pddf_2 = pd.DataFrame(data_2)"
   ]
  },
  {
   "cell_type": "code",
   "execution_count": 7,
   "id": "2a880950",
   "metadata": {},
   "outputs": [],
   "source": [
    "pydf_1 = spark.createDataFrame(pddf_1)\n",
    "pydf_2 = spark.createDataFrame(pddf_2)\\\n",
    "                .withColumnRenamed('inn', 'inn_n')\\\n",
    "                .withColumnRenamed('company', 'company_n')"
   ]
  },
  {
   "cell_type": "code",
   "execution_count": 8,
   "id": "390c736c",
   "metadata": {},
   "outputs": [],
   "source": [
    "pydf_union = pydf_1.join(pydf_2, pydf_1.inn == pydf_2.inn_n, 'outer').select('company', 'inn')"
   ]
  },
  {
   "cell_type": "markdown",
   "id": "cce6edbd",
   "metadata": {},
   "source": [
    "Общее количество записей"
   ]
  },
  {
   "cell_type": "code",
   "execution_count": 9,
   "id": "b13cbc55",
   "metadata": {},
   "outputs": [
    {
     "data": {
      "text/plain": [
       "24"
      ]
     },
     "execution_count": 9,
     "metadata": {},
     "output_type": "execute_result"
    }
   ],
   "source": [
    "pydf_union.count()"
   ]
  },
  {
   "cell_type": "markdown",
   "id": "fa99c95a",
   "metadata": {},
   "source": [
    "Количество нулевых значений"
   ]
  },
  {
   "cell_type": "code",
   "execution_count": 10,
   "id": "57514f6d",
   "metadata": {},
   "outputs": [
    {
     "data": {
      "text/plain": [
       "2"
      ]
     },
     "execution_count": 10,
     "metadata": {},
     "output_type": "execute_result"
    }
   ],
   "source": [
    "pydf_union.filter(f.col('inn').isNull()).count()"
   ]
  },
  {
   "cell_type": "markdown",
   "id": "975a220f",
   "metadata": {},
   "source": [
    "### Вызов функции transform_inn_col()"
   ]
  },
  {
   "cell_type": "code",
   "execution_count": 11,
   "id": "8d57191e",
   "metadata": {},
   "outputs": [],
   "source": [
    "test_transform_func = transform_inn_col(pydf_union, 'inn')"
   ]
  },
  {
   "cell_type": "markdown",
   "id": "4e6132b1",
   "metadata": {},
   "source": [
    "Количество значений (нулевые значения отфильтрованы)"
   ]
  },
  {
   "cell_type": "code",
   "execution_count": 12,
   "id": "02855dc6",
   "metadata": {},
   "outputs": [
    {
     "data": {
      "text/plain": [
       "22"
      ]
     },
     "execution_count": 12,
     "metadata": {},
     "output_type": "execute_result"
    }
   ],
   "source": [
    "test_transform_func.count()"
   ]
  },
  {
   "cell_type": "markdown",
   "id": "165e5284",
   "metadata": {},
   "source": [
    "Смотрим изменившиеся колонки"
   ]
  },
  {
   "cell_type": "code",
   "execution_count": 13,
   "id": "906cd488",
   "metadata": {},
   "outputs": [
    {
     "name": "stdout",
     "output_type": "stream",
     "text": [
      "+------------+--------------------+\n",
      "|   inn_fixed|             company|\n",
      "+------------+--------------------+\n",
      "|  0105020396|            ЗАО Марс|\n",
      "|  0123456790|ИП Веремеенко Сер...|\n",
      "|            |             ПАО Кот|\n",
      "|000000000000|            АО Завод|\n",
      "+------------+--------------------+\n",
      "\n"
     ]
    }
   ],
   "source": [
    "test_transform_func.select('inn_fixed', 'company')\\\n",
    "                    .exceptAll(test_transform_func.select('inn', 'company'))\\\n",
    "                    .show()"
   ]
  },
  {
   "cell_type": "markdown",
   "id": "6c6be16d",
   "metadata": {},
   "source": [
    "### Вызов функции check_inn()"
   ]
  },
  {
   "cell_type": "markdown",
   "id": "66a08ba7",
   "metadata": {},
   "source": [
    "с неотредактированной колонкой ИНН"
   ]
  },
  {
   "cell_type": "code",
   "execution_count": 14,
   "id": "e69032ff",
   "metadata": {},
   "outputs": [],
   "source": [
    "test_check_inn_func_non_fixed_inn = check_inn(test_transform_func, 'inn')"
   ]
  },
  {
   "cell_type": "markdown",
   "id": "cd617f80",
   "metadata": {},
   "source": [
    "считаем количество валидных ИНН"
   ]
  },
  {
   "cell_type": "code",
   "execution_count": 15,
   "id": "7eccab0e",
   "metadata": {},
   "outputs": [
    {
     "name": "stdout",
     "output_type": "stream",
     "text": [
      "+--------------+-----+\n",
      "|inn_valid_flag|count|\n",
      "+--------------+-----+\n",
      "|             1|   12|\n",
      "|             0|   10|\n",
      "+--------------+-----+\n",
      "\n"
     ]
    }
   ],
   "source": [
    "test_check_inn_func_non_fixed_inn.groupBy('inn_valid_flag').count().show()"
   ]
  },
  {
   "cell_type": "markdown",
   "id": "8f13d39e",
   "metadata": {},
   "source": [
    "с отредактированной колонкой ИНН"
   ]
  },
  {
   "cell_type": "code",
   "execution_count": 16,
   "id": "e691e6ab",
   "metadata": {},
   "outputs": [],
   "source": [
    "test_check_inn_func_fixed_inn = check_inn(test_transform_func, 'inn_fixed')"
   ]
  },
  {
   "cell_type": "markdown",
   "id": "cca62a25",
   "metadata": {},
   "source": [
    "считаем количество валидных ИНН (благодаря предварительному редактированиб удалось увеличить число валидных ИНН)"
   ]
  },
  {
   "cell_type": "code",
   "execution_count": 17,
   "id": "132b630d",
   "metadata": {},
   "outputs": [
    {
     "name": "stdout",
     "output_type": "stream",
     "text": [
      "+--------------------+-----+\n",
      "|inn_fixed_valid_flag|count|\n",
      "+--------------------+-----+\n",
      "|                   1|   13|\n",
      "|                   0|    9|\n",
      "+--------------------+-----+\n",
      "\n"
     ]
    }
   ],
   "source": [
    "test_check_inn_func_fixed_inn.groupBy('inn_fixed_valid_flag').count().show()"
   ]
  },
  {
   "cell_type": "code",
   "execution_count": 18,
   "id": "b18eed3b",
   "metadata": {},
   "outputs": [],
   "source": [
    "spark.stop()"
   ]
  }
 ],
 "metadata": {
  "kernelspec": {
   "display_name": "Python 3",
   "language": "python",
   "name": "python3"
  },
  "language_info": {
   "codemirror_mode": {
    "name": "ipython",
    "version": 3
   },
   "file_extension": ".py",
   "mimetype": "text/x-python",
   "name": "python",
   "nbconvert_exporter": "python",
   "pygments_lexer": "ipython3",
   "version": "3.8.8"
  }
 },
 "nbformat": 4,
 "nbformat_minor": 5
}
